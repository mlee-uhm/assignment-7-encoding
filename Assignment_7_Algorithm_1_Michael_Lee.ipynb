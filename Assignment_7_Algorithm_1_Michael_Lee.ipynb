{
 "cells": [
  {
   "cell_type": "code",
   "execution_count": 1,
   "id": "dc68b1f2",
   "metadata": {},
   "outputs": [],
   "source": [
    "class User:\n",
    "    def __init__(self, name):\n",
    "        self.name = name\n",
    "        self.sent_message = [] # List containing messages sent encoded\n",
    "        self.received_message = [] # List containing message received decoded\n",
    "    # Time complexity O(n)\n",
    "    def add_sent_message(self, message):\n",
    "        self.sent_message.append(rle_encode(message))\n",
    "    # Time complexity O(n)\n",
    "    def add_received_message(self, encoded_message):\n",
    "        self.received_message.append(rle_decode(encoded_message))\n",
    "\n",
    "class Message:\n",
    "    def __init__(self, from_user, to_user, metadata, message_body):\n",
    "        self.from_user = from_user           # User sending the message\n",
    "        self.to_user = to_user               # User receiving the message\n",
    "        self.metadata = metadata             # Metadata for the message\n",
    "        self.message_body = message_body     # The content of the message (string)\n",
    "\n",
    "    def send(self):\n",
    "        encoded_message = rle_encode(self.message_body)\n",
    "        self.from_user.add_sent_message(self.message_body)\n",
    "        self.to_user.add_received_message(encoded_message)"
   ]
  },
  {
   "cell_type": "code",
   "execution_count": 2,
   "id": "44aaee2f-03af-4e91-bf30-121168538119",
   "metadata": {},
   "outputs": [],
   "source": [
    "# Time complexity O(n) - Loops through the message only once\n",
    "def rle_encode(message, length_first=True):\n",
    "    final_message = \"\"            # Create a string to hold the compressed message\n",
    "    start_character = message[0]  # Start from the first character in the message\n",
    "    character_count = 0           # Count the number of times a character appeers in a row\n",
    "    for character in message[1:]: # Start from the second letter\n",
    "        character_count += 1\n",
    "        if (character is not start_character): # Character changes\n",
    "            if (length_first): # Encode with the length first\n",
    "                final_message += f\"{character_count}{start_character}\" # Add the compressed data\n",
    "            elif (length_first == False): # Encode with character first\n",
    "                final_message += f\"{start_character}{character_count}\" # Add the compressed data\n",
    "            start_character = character  # Change the character we start grouping\n",
    "            character_count = 0  # Reset the number of times a character appears\n",
    "    \n",
    "    # Add the last set of characters\n",
    "    if (length_first): # Encode with the length first\n",
    "        final_message += f\"{character_count + 1}{start_character}\" # Add the compressed data\n",
    "    elif (length_first == False): # Encode with character first\n",
    "        final_message += f\"{start_character + 1}{character_count}\" # Add the compressed data\n",
    "    return final_message\n",
    "        "
   ]
  },
  {
   "cell_type": "code",
   "execution_count": 3,
   "id": "f189e6a4-fa92-4d50-b424-89e37ec19599",
   "metadata": {},
   "outputs": [],
   "source": [
    "from itertools import batched\n",
    "\n",
    "# Time complexity O(n) - n is the sum of all the numbers in the encoded message\n",
    "def rle_decode(encoded_message, length_first=True):\n",
    "    final_message = \"\"\n",
    "    for a, b in batched(encoded_message, 2): # Breaks the encoded message into tuples that contain the number and character\n",
    "        if (length_first): # a is the number and b is the character\n",
    "            final_message += f\"{b * int(a)}\"\n",
    "        elif (length_first == False): # a is the character and b is the number\n",
    "            final_message += f\"{a * int(b)}\"\n",
    "    return final_message"
   ]
  },
  {
   "cell_type": "code",
   "execution_count": 7,
   "id": "89ef7deb-7509-4fdd-9f88-be3e4500c055",
   "metadata": {},
   "outputs": [
    {
     "name": "stdout",
     "output_type": "stream",
     "text": [
      "['1t1h1i1s1 1i1s1 1a1 1m1e2s1a1g1e', '1t1h1i1s1 1i1s1 1a1n1o1t1h1e1r1 1m1e2s1a1g1e'] []\n",
      "['6M2E4S5A5G6E'] ['this is a message']\n",
      "[] ['this is another message', 'MMMMMMEESSSSAAAAAGGGGGEEEEEE']\n"
     ]
    }
   ],
   "source": [
    "# Test case\n",
    "userA = User(\"Alice\")\n",
    "userB = User(\"Bob\")\n",
    "userC = User(\"Carlos\")\n",
    "\n",
    "# Create messageA and send it\n",
    "messageA = Message(userA, userB, \"rle\", \"this is a message\")\n",
    "messageA.send()\n",
    "messageB = Message(userA, userC, \"rle\", \"this is another message\")\n",
    "messageB.send()\n",
    "messageC = Message(userB, userC, \"rle\", \"MMMMMMEESSSSAAAAAGGGGGEEEEEE\")\n",
    "messageC.send()\n",
    "\n",
    "print(userA.sent_message, userA.received_message)\n",
    "print(userB.sent_message, userB.received_message)\n",
    "print(userC.sent_message, userC.received_message)"
   ]
  }
 ],
 "metadata": {
  "kernelspec": {
   "display_name": "Python 3 (ipykernel)",
   "language": "python",
   "name": "python3"
  },
  "language_info": {
   "codemirror_mode": {
    "name": "ipython",
    "version": 3
   },
   "file_extension": ".py",
   "mimetype": "text/x-python",
   "name": "python",
   "nbconvert_exporter": "python",
   "pygments_lexer": "ipython3",
   "version": "3.12.7"
  }
 },
 "nbformat": 4,
 "nbformat_minor": 5
}
